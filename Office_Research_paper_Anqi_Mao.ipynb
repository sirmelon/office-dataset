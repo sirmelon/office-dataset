{
  "nbformat": 4,
  "nbformat_minor": 0,
  "metadata": {
    "colab": {
      "provenance": [],
      "authorship_tag": "ABX9TyMjMtOGVYSvI0wRA6OTOcl+",
      "include_colab_link": true
    },
    "kernelspec": {
      "name": "python3",
      "display_name": "Python 3"
    },
    "language_info": {
      "name": "python"
    }
  },
  "cells": [
    {
      "cell_type": "markdown",
      "metadata": {
        "id": "view-in-github",
        "colab_type": "text"
      },
      "source": [
        "<a href=\"https://colab.research.google.com/github/sirmelon/office-dataset/blob/main/Office_Research_paper_Anqi_Mao.ipynb\" target=\"_parent\"><img src=\"https://colab.research.google.com/assets/colab-badge.svg\" alt=\"Open In Colab\"/></a>"
      ]
    },
    {
      "cell_type": "markdown",
      "source": [
        "# **Popularity affects the over all score of a lot ofere different media**"
      ],
      "metadata": {
        "id": "d5KG-Eo-IEps"
      }
    },
    {
      "cell_type": "markdown",
      "source": [
        "# Background\n",
        "\n",
        "  The office dataset includes information on episodes and there scores. These scores consist of IMBd_score, sentimentAnalysis_score, sentimentr_score, and syuzhet_score. For my research I wanted to focus on a simple scoring system, the IMDb score. I chose this because it rates each episode through out the show. This way I could explore my research question. Vote counts is also another variable that is in the data set which is how many people voting.\n",
        "\n",
        "  These variables are very important to my question. If votes dip or go up does the score also change in response? I wanted to explore how popularity affects the score of media and this could serve as a base for other research. My hypothesis is, yes it does change and when the amount of voters go up so will the score. This also goes the other way around\n",
        "\n",
        "  "
      ],
      "metadata": {
        "id": "AdUYS3aqIuub"
      }
    },
    {
      "cell_type": "markdown",
      "source": [
        "**Sample of the dataset**"
      ],
      "metadata": {
        "id": "GVvgGSzOMHLg"
      }
    },
    {
      "cell_type": "code",
      "source": [
        "import pandas as pd\n",
        "url = \"https://raw.githubusercontent.com/dsollberger/quartoblog/master/posts/office_sentiment/office_sentiment.csv\"\n",
        "\n",
        "\n",
        "office_df = pd.read_csv(url)#importing and reading the dataset\n",
        "office_df.head()"
      ],
      "metadata": {
        "colab": {
          "base_uri": "https://localhost:8080/",
          "height": 590
        },
        "id": "jleS5O-KMOHb",
        "outputId": "81431baa-cfe3-4f30-f30e-afce4c02ede6"
      },
      "execution_count": 1,
      "outputs": [
        {
          "output_type": "execute_result",
          "data": {
            "text/plain": [
              "   index  season  episode episode_name    director  \\\n",
              "0      1       1        1        Pilot  Ken Kwapis   \n",
              "1      2       1        1        Pilot  Ken Kwapis   \n",
              "2      3       1        1        Pilot  Ken Kwapis   \n",
              "3      4       1        1        Pilot  Ken Kwapis   \n",
              "4      5       1        1        Pilot  Ken Kwapis   \n",
              "\n",
              "                                        writer character  \\\n",
              "0  Ricky Gervais;Stephen Merchant;Greg Daniels   Michael   \n",
              "1  Ricky Gervais;Stephen Merchant;Greg Daniels       Jim   \n",
              "2  Ricky Gervais;Stephen Merchant;Greg Daniels   Michael   \n",
              "3  Ricky Gervais;Stephen Merchant;Greg Daniels       Jim   \n",
              "4  Ricky Gervais;Stephen Merchant;Greg Daniels   Michael   \n",
              "\n",
              "                                                text  \\\n",
              "0  All right Jim. Your quarterlies look very good...   \n",
              "1         Oh, I told you. I couldn't close it. So...   \n",
              "2  So you've come to the master for guidance? Is ...   \n",
              "3         Actually, you called me in here, but yeah.   \n",
              "4    All right. Well, let me show you how it's done.   \n",
              "\n",
              "                                    text_w_direction  imdb_rating  \\\n",
              "0  All right Jim. Your quarterlies look very good...          7.6   \n",
              "1         Oh, I told you. I couldn't close it. So...          7.6   \n",
              "2  So you've come to the master for guidance? Is ...          7.6   \n",
              "3         Actually, you called me in here, but yeah.          7.6   \n",
              "4    All right. Well, let me show you how it's done.          7.6   \n",
              "\n",
              "   total_votes    air_date  sentimentAnalysis_score  sentimentr_score  \\\n",
              "0         3706  2005-03-24                 0.285714          0.134552   \n",
              "1         3706  2005-03-24                 0.000000          0.461880   \n",
              "2         3706  2005-03-24                 0.428571          0.603738   \n",
              "3         3706  2005-03-24                 0.000000          0.244949   \n",
              "4         3706  2005-03-24                 0.400000          0.000000   \n",
              "\n",
              "   syuzhet_score  \n",
              "0           2.15  \n",
              "1           0.00  \n",
              "2           0.50  \n",
              "3           0.00  \n",
              "4           1.60  "
            ],
            "text/html": [
              "\n",
              "  <div id=\"df-c954b6f3-4214-4537-a3f8-742625b45143\" class=\"colab-df-container\">\n",
              "    <div>\n",
              "<style scoped>\n",
              "    .dataframe tbody tr th:only-of-type {\n",
              "        vertical-align: middle;\n",
              "    }\n",
              "\n",
              "    .dataframe tbody tr th {\n",
              "        vertical-align: top;\n",
              "    }\n",
              "\n",
              "    .dataframe thead th {\n",
              "        text-align: right;\n",
              "    }\n",
              "</style>\n",
              "<table border=\"1\" class=\"dataframe\">\n",
              "  <thead>\n",
              "    <tr style=\"text-align: right;\">\n",
              "      <th></th>\n",
              "      <th>index</th>\n",
              "      <th>season</th>\n",
              "      <th>episode</th>\n",
              "      <th>episode_name</th>\n",
              "      <th>director</th>\n",
              "      <th>writer</th>\n",
              "      <th>character</th>\n",
              "      <th>text</th>\n",
              "      <th>text_w_direction</th>\n",
              "      <th>imdb_rating</th>\n",
              "      <th>total_votes</th>\n",
              "      <th>air_date</th>\n",
              "      <th>sentimentAnalysis_score</th>\n",
              "      <th>sentimentr_score</th>\n",
              "      <th>syuzhet_score</th>\n",
              "    </tr>\n",
              "  </thead>\n",
              "  <tbody>\n",
              "    <tr>\n",
              "      <th>0</th>\n",
              "      <td>1</td>\n",
              "      <td>1</td>\n",
              "      <td>1</td>\n",
              "      <td>Pilot</td>\n",
              "      <td>Ken Kwapis</td>\n",
              "      <td>Ricky Gervais;Stephen Merchant;Greg Daniels</td>\n",
              "      <td>Michael</td>\n",
              "      <td>All right Jim. Your quarterlies look very good...</td>\n",
              "      <td>All right Jim. Your quarterlies look very good...</td>\n",
              "      <td>7.6</td>\n",
              "      <td>3706</td>\n",
              "      <td>2005-03-24</td>\n",
              "      <td>0.285714</td>\n",
              "      <td>0.134552</td>\n",
              "      <td>2.15</td>\n",
              "    </tr>\n",
              "    <tr>\n",
              "      <th>1</th>\n",
              "      <td>2</td>\n",
              "      <td>1</td>\n",
              "      <td>1</td>\n",
              "      <td>Pilot</td>\n",
              "      <td>Ken Kwapis</td>\n",
              "      <td>Ricky Gervais;Stephen Merchant;Greg Daniels</td>\n",
              "      <td>Jim</td>\n",
              "      <td>Oh, I told you. I couldn't close it. So...</td>\n",
              "      <td>Oh, I told you. I couldn't close it. So...</td>\n",
              "      <td>7.6</td>\n",
              "      <td>3706</td>\n",
              "      <td>2005-03-24</td>\n",
              "      <td>0.000000</td>\n",
              "      <td>0.461880</td>\n",
              "      <td>0.00</td>\n",
              "    </tr>\n",
              "    <tr>\n",
              "      <th>2</th>\n",
              "      <td>3</td>\n",
              "      <td>1</td>\n",
              "      <td>1</td>\n",
              "      <td>Pilot</td>\n",
              "      <td>Ken Kwapis</td>\n",
              "      <td>Ricky Gervais;Stephen Merchant;Greg Daniels</td>\n",
              "      <td>Michael</td>\n",
              "      <td>So you've come to the master for guidance? Is ...</td>\n",
              "      <td>So you've come to the master for guidance? Is ...</td>\n",
              "      <td>7.6</td>\n",
              "      <td>3706</td>\n",
              "      <td>2005-03-24</td>\n",
              "      <td>0.428571</td>\n",
              "      <td>0.603738</td>\n",
              "      <td>0.50</td>\n",
              "    </tr>\n",
              "    <tr>\n",
              "      <th>3</th>\n",
              "      <td>4</td>\n",
              "      <td>1</td>\n",
              "      <td>1</td>\n",
              "      <td>Pilot</td>\n",
              "      <td>Ken Kwapis</td>\n",
              "      <td>Ricky Gervais;Stephen Merchant;Greg Daniels</td>\n",
              "      <td>Jim</td>\n",
              "      <td>Actually, you called me in here, but yeah.</td>\n",
              "      <td>Actually, you called me in here, but yeah.</td>\n",
              "      <td>7.6</td>\n",
              "      <td>3706</td>\n",
              "      <td>2005-03-24</td>\n",
              "      <td>0.000000</td>\n",
              "      <td>0.244949</td>\n",
              "      <td>0.00</td>\n",
              "    </tr>\n",
              "    <tr>\n",
              "      <th>4</th>\n",
              "      <td>5</td>\n",
              "      <td>1</td>\n",
              "      <td>1</td>\n",
              "      <td>Pilot</td>\n",
              "      <td>Ken Kwapis</td>\n",
              "      <td>Ricky Gervais;Stephen Merchant;Greg Daniels</td>\n",
              "      <td>Michael</td>\n",
              "      <td>All right. Well, let me show you how it's done.</td>\n",
              "      <td>All right. Well, let me show you how it's done.</td>\n",
              "      <td>7.6</td>\n",
              "      <td>3706</td>\n",
              "      <td>2005-03-24</td>\n",
              "      <td>0.400000</td>\n",
              "      <td>0.000000</td>\n",
              "      <td>1.60</td>\n",
              "    </tr>\n",
              "  </tbody>\n",
              "</table>\n",
              "</div>\n",
              "    <div class=\"colab-df-buttons\">\n",
              "\n",
              "  <div class=\"colab-df-container\">\n",
              "    <button class=\"colab-df-convert\" onclick=\"convertToInteractive('df-c954b6f3-4214-4537-a3f8-742625b45143')\"\n",
              "            title=\"Convert this dataframe to an interactive table.\"\n",
              "            style=\"display:none;\">\n",
              "\n",
              "  <svg xmlns=\"http://www.w3.org/2000/svg\" height=\"24px\" viewBox=\"0 -960 960 960\">\n",
              "    <path d=\"M120-120v-720h720v720H120Zm60-500h600v-160H180v160Zm220 220h160v-160H400v160Zm0 220h160v-160H400v160ZM180-400h160v-160H180v160Zm440 0h160v-160H620v160ZM180-180h160v-160H180v160Zm440 0h160v-160H620v160Z\"/>\n",
              "  </svg>\n",
              "    </button>\n",
              "\n",
              "  <style>\n",
              "    .colab-df-container {\n",
              "      display:flex;\n",
              "      gap: 12px;\n",
              "    }\n",
              "\n",
              "    .colab-df-convert {\n",
              "      background-color: #E8F0FE;\n",
              "      border: none;\n",
              "      border-radius: 50%;\n",
              "      cursor: pointer;\n",
              "      display: none;\n",
              "      fill: #1967D2;\n",
              "      height: 32px;\n",
              "      padding: 0 0 0 0;\n",
              "      width: 32px;\n",
              "    }\n",
              "\n",
              "    .colab-df-convert:hover {\n",
              "      background-color: #E2EBFA;\n",
              "      box-shadow: 0px 1px 2px rgba(60, 64, 67, 0.3), 0px 1px 3px 1px rgba(60, 64, 67, 0.15);\n",
              "      fill: #174EA6;\n",
              "    }\n",
              "\n",
              "    .colab-df-buttons div {\n",
              "      margin-bottom: 4px;\n",
              "    }\n",
              "\n",
              "    [theme=dark] .colab-df-convert {\n",
              "      background-color: #3B4455;\n",
              "      fill: #D2E3FC;\n",
              "    }\n",
              "\n",
              "    [theme=dark] .colab-df-convert:hover {\n",
              "      background-color: #434B5C;\n",
              "      box-shadow: 0px 1px 3px 1px rgba(0, 0, 0, 0.15);\n",
              "      filter: drop-shadow(0px 1px 2px rgba(0, 0, 0, 0.3));\n",
              "      fill: #FFFFFF;\n",
              "    }\n",
              "  </style>\n",
              "\n",
              "    <script>\n",
              "      const buttonEl =\n",
              "        document.querySelector('#df-c954b6f3-4214-4537-a3f8-742625b45143 button.colab-df-convert');\n",
              "      buttonEl.style.display =\n",
              "        google.colab.kernel.accessAllowed ? 'block' : 'none';\n",
              "\n",
              "      async function convertToInteractive(key) {\n",
              "        const element = document.querySelector('#df-c954b6f3-4214-4537-a3f8-742625b45143');\n",
              "        const dataTable =\n",
              "          await google.colab.kernel.invokeFunction('convertToInteractive',\n",
              "                                                    [key], {});\n",
              "        if (!dataTable) return;\n",
              "\n",
              "        const docLinkHtml = 'Like what you see? Visit the ' +\n",
              "          '<a target=\"_blank\" href=https://colab.research.google.com/notebooks/data_table.ipynb>data table notebook</a>'\n",
              "          + ' to learn more about interactive tables.';\n",
              "        element.innerHTML = '';\n",
              "        dataTable['output_type'] = 'display_data';\n",
              "        await google.colab.output.renderOutput(dataTable, element);\n",
              "        const docLink = document.createElement('div');\n",
              "        docLink.innerHTML = docLinkHtml;\n",
              "        element.appendChild(docLink);\n",
              "      }\n",
              "    </script>\n",
              "  </div>\n",
              "\n",
              "\n",
              "    <div id=\"df-121e45b6-5366-45de-99a7-19d9cb1f8ee6\">\n",
              "      <button class=\"colab-df-quickchart\" onclick=\"quickchart('df-121e45b6-5366-45de-99a7-19d9cb1f8ee6')\"\n",
              "                title=\"Suggest charts\"\n",
              "                style=\"display:none;\">\n",
              "\n",
              "<svg xmlns=\"http://www.w3.org/2000/svg\" height=\"24px\"viewBox=\"0 0 24 24\"\n",
              "     width=\"24px\">\n",
              "    <g>\n",
              "        <path d=\"M19 3H5c-1.1 0-2 .9-2 2v14c0 1.1.9 2 2 2h14c1.1 0 2-.9 2-2V5c0-1.1-.9-2-2-2zM9 17H7v-7h2v7zm4 0h-2V7h2v10zm4 0h-2v-4h2v4z\"/>\n",
              "    </g>\n",
              "</svg>\n",
              "      </button>\n",
              "\n",
              "<style>\n",
              "  .colab-df-quickchart {\n",
              "      --bg-color: #E8F0FE;\n",
              "      --fill-color: #1967D2;\n",
              "      --hover-bg-color: #E2EBFA;\n",
              "      --hover-fill-color: #174EA6;\n",
              "      --disabled-fill-color: #AAA;\n",
              "      --disabled-bg-color: #DDD;\n",
              "  }\n",
              "\n",
              "  [theme=dark] .colab-df-quickchart {\n",
              "      --bg-color: #3B4455;\n",
              "      --fill-color: #D2E3FC;\n",
              "      --hover-bg-color: #434B5C;\n",
              "      --hover-fill-color: #FFFFFF;\n",
              "      --disabled-bg-color: #3B4455;\n",
              "      --disabled-fill-color: #666;\n",
              "  }\n",
              "\n",
              "  .colab-df-quickchart {\n",
              "    background-color: var(--bg-color);\n",
              "    border: none;\n",
              "    border-radius: 50%;\n",
              "    cursor: pointer;\n",
              "    display: none;\n",
              "    fill: var(--fill-color);\n",
              "    height: 32px;\n",
              "    padding: 0;\n",
              "    width: 32px;\n",
              "  }\n",
              "\n",
              "  .colab-df-quickchart:hover {\n",
              "    background-color: var(--hover-bg-color);\n",
              "    box-shadow: 0 1px 2px rgba(60, 64, 67, 0.3), 0 1px 3px 1px rgba(60, 64, 67, 0.15);\n",
              "    fill: var(--button-hover-fill-color);\n",
              "  }\n",
              "\n",
              "  .colab-df-quickchart-complete:disabled,\n",
              "  .colab-df-quickchart-complete:disabled:hover {\n",
              "    background-color: var(--disabled-bg-color);\n",
              "    fill: var(--disabled-fill-color);\n",
              "    box-shadow: none;\n",
              "  }\n",
              "\n",
              "  .colab-df-spinner {\n",
              "    border: 2px solid var(--fill-color);\n",
              "    border-color: transparent;\n",
              "    border-bottom-color: var(--fill-color);\n",
              "    animation:\n",
              "      spin 1s steps(1) infinite;\n",
              "  }\n",
              "\n",
              "  @keyframes spin {\n",
              "    0% {\n",
              "      border-color: transparent;\n",
              "      border-bottom-color: var(--fill-color);\n",
              "      border-left-color: var(--fill-color);\n",
              "    }\n",
              "    20% {\n",
              "      border-color: transparent;\n",
              "      border-left-color: var(--fill-color);\n",
              "      border-top-color: var(--fill-color);\n",
              "    }\n",
              "    30% {\n",
              "      border-color: transparent;\n",
              "      border-left-color: var(--fill-color);\n",
              "      border-top-color: var(--fill-color);\n",
              "      border-right-color: var(--fill-color);\n",
              "    }\n",
              "    40% {\n",
              "      border-color: transparent;\n",
              "      border-right-color: var(--fill-color);\n",
              "      border-top-color: var(--fill-color);\n",
              "    }\n",
              "    60% {\n",
              "      border-color: transparent;\n",
              "      border-right-color: var(--fill-color);\n",
              "    }\n",
              "    80% {\n",
              "      border-color: transparent;\n",
              "      border-right-color: var(--fill-color);\n",
              "      border-bottom-color: var(--fill-color);\n",
              "    }\n",
              "    90% {\n",
              "      border-color: transparent;\n",
              "      border-bottom-color: var(--fill-color);\n",
              "    }\n",
              "  }\n",
              "</style>\n",
              "\n",
              "      <script>\n",
              "        async function quickchart(key) {\n",
              "          const quickchartButtonEl =\n",
              "            document.querySelector('#' + key + ' button');\n",
              "          quickchartButtonEl.disabled = true;  // To prevent multiple clicks.\n",
              "          quickchartButtonEl.classList.add('colab-df-spinner');\n",
              "          try {\n",
              "            const charts = await google.colab.kernel.invokeFunction(\n",
              "                'suggestCharts', [key], {});\n",
              "          } catch (error) {\n",
              "            console.error('Error during call to suggestCharts:', error);\n",
              "          }\n",
              "          quickchartButtonEl.classList.remove('colab-df-spinner');\n",
              "          quickchartButtonEl.classList.add('colab-df-quickchart-complete');\n",
              "        }\n",
              "        (() => {\n",
              "          let quickchartButtonEl =\n",
              "            document.querySelector('#df-121e45b6-5366-45de-99a7-19d9cb1f8ee6 button');\n",
              "          quickchartButtonEl.style.display =\n",
              "            google.colab.kernel.accessAllowed ? 'block' : 'none';\n",
              "        })();\n",
              "      </script>\n",
              "    </div>\n",
              "\n",
              "    </div>\n",
              "  </div>\n"
            ],
            "application/vnd.google.colaboratory.intrinsic+json": {
              "type": "dataframe",
              "variable_name": "office_df",
              "summary": "{\n  \"name\": \"office_df\",\n  \"rows\": 55130,\n  \"fields\": [\n    {\n      \"column\": \"index\",\n      \"properties\": {\n        \"dtype\": \"number\",\n        \"std\": 15914,\n        \"min\": 1,\n        \"max\": 55130,\n        \"num_unique_values\": 55130,\n        \"samples\": [\n          30990,\n          34998,\n          46516\n        ],\n        \"semantic_type\": \"\",\n        \"description\": \"\"\n      }\n    },\n    {\n      \"column\": \"season\",\n      \"properties\": {\n        \"dtype\": \"number\",\n        \"std\": 2,\n        \"min\": 1,\n        \"max\": 9,\n        \"num_unique_values\": 9,\n        \"samples\": [\n          8,\n          2,\n          6\n        ],\n        \"semantic_type\": \"\",\n        \"description\": \"\"\n      }\n    },\n    {\n      \"column\": \"episode\",\n      \"properties\": {\n        \"dtype\": \"number\",\n        \"std\": 7,\n        \"min\": 1,\n        \"max\": 28,\n        \"num_unique_values\": 28,\n        \"samples\": [\n          10,\n          26,\n          9\n        ],\n        \"semantic_type\": \"\",\n        \"description\": \"\"\n      }\n    },\n    {\n      \"column\": \"episode_name\",\n      \"properties\": {\n        \"dtype\": \"category\",\n        \"num_unique_values\": 186,\n        \"samples\": [\n          \"The Chump\",\n          \"Roy's Wedding\",\n          \"The Whale\"\n        ],\n        \"semantic_type\": \"\",\n        \"description\": \"\"\n      }\n    },\n    {\n      \"column\": \"director\",\n      \"properties\": {\n        \"dtype\": \"category\",\n        \"num_unique_values\": 61,\n        \"samples\": [\n          \"Ken Kwapis\",\n          \"Paul Feig\",\n          \"Michael Spiller\"\n        ],\n        \"semantic_type\": \"\",\n        \"description\": \"\"\n      }\n    },\n    {\n      \"column\": \"writer\",\n      \"properties\": {\n        \"dtype\": \"category\",\n        \"num_unique_values\": 47,\n        \"samples\": [\n          \"Greg Daniels;Mindy Kaling\",\n          \"Allison Silverman\",\n          \"Warren Lieberstein;Halsted Sullivan\"\n        ],\n        \"semantic_type\": \"\",\n        \"description\": \"\"\n      }\n    },\n    {\n      \"column\": \"character\",\n      \"properties\": {\n        \"dtype\": \"category\",\n        \"num_unique_values\": 773,\n        \"samples\": [\n          \"Jessica\",\n          \"Dennis\",\n          \"Jada\"\n        ],\n        \"semantic_type\": \"\",\n        \"description\": \"\"\n      }\n    },\n    {\n      \"column\": \"text\",\n      \"properties\": {\n        \"dtype\": \"string\",\n        \"num_unique_values\": 46713,\n        \"samples\": [\n          \"Whoa! What's the situation?\",\n          \"You're kidding me. Ahh!\",\n          \"Oh, I boiled some Gatorade.\"\n        ],\n        \"semantic_type\": \"\",\n        \"description\": \"\"\n      }\n    },\n    {\n      \"column\": \"text_w_direction\",\n      \"properties\": {\n        \"dtype\": \"string\",\n        \"num_unique_values\": 48117,\n        \"samples\": [\n          \"What was prison like?\",\n          \"Well, those aren't Pam's strong points.\",\n          \"Oh, I hate that.\"\n        ],\n        \"semantic_type\": \"\",\n        \"description\": \"\"\n      }\n    },\n    {\n      \"column\": \"imdb_rating\",\n      \"properties\": {\n        \"dtype\": \"number\",\n        \"std\": 0.5497715980831037,\n        \"min\": 6.7,\n        \"max\": 9.7,\n        \"num_unique_values\": 28,\n        \"samples\": [\n          8.8,\n          7.2,\n          8.6\n        ],\n        \"semantic_type\": \"\",\n        \"description\": \"\"\n      }\n    },\n    {\n      \"column\": \"total_votes\",\n      \"properties\": {\n        \"dtype\": \"number\",\n        \"std\": 894,\n        \"min\": 1393,\n        \"max\": 7934,\n        \"num_unique_values\": 174,\n        \"samples\": [\n          1551,\n          1522,\n          1670\n        ],\n        \"semantic_type\": \"\",\n        \"description\": \"\"\n      }\n    },\n    {\n      \"column\": \"air_date\",\n      \"properties\": {\n        \"dtype\": \"object\",\n        \"num_unique_values\": 184,\n        \"samples\": [\n          \"2006-01-26\",\n          \"2007-02-08\",\n          \"2012-03-15\"\n        ],\n        \"semantic_type\": \"\",\n        \"description\": \"\"\n      }\n    },\n    {\n      \"column\": \"sentimentAnalysis_score\",\n      \"properties\": {\n        \"dtype\": \"number\",\n        \"std\": 0.3179994893767291,\n        \"min\": -1.0,\n        \"max\": 1.0,\n        \"num_unique_values\": 375,\n        \"samples\": [\n          -0.0689655172413793,\n          0.1428571428571428,\n          0.0833333333333333\n        ],\n        \"semantic_type\": \"\",\n        \"description\": \"\"\n      }\n    },\n    {\n      \"column\": \"sentimentr_score\",\n      \"properties\": {\n        \"dtype\": \"number\",\n        \"std\": 0.26360317989859683,\n        \"min\": -2.23606797749979,\n        \"max\": 2.6457513110645903,\n        \"num_unique_values\": 2354,\n        \"samples\": [\n          0.1281025230440697,\n          0.0801783725737273,\n          0.4829906831399546\n        ],\n        \"semantic_type\": \"\",\n        \"description\": \"\"\n      }\n    },\n    {\n      \"column\": \"syuzhet_score\",\n      \"properties\": {\n        \"dtype\": \"number\",\n        \"std\": 0.7077985371045645,\n        \"min\": -5.0,\n        \"max\": 7.75,\n        \"num_unique_values\": 253,\n        \"samples\": [\n          4.95,\n          0.75,\n          0.7\n        ],\n        \"semantic_type\": \"\",\n        \"description\": \"\"\n      }\n    }\n  ]\n}"
            }
          },
          "metadata": {},
          "execution_count": 1
        }
      ]
    },
    {
      "cell_type": "markdown",
      "source": [
        "# **Results**\n",
        "\n",
        "  This dataset seems to missing data so well have to clean it up a little. Even if im not gonna use the variables that are missing i prefer cleaning it up rather than leave it like that"
      ],
      "metadata": {
        "id": "2ulwfdLBNLav"
      }
    },
    {
      "cell_type": "code",
      "source": [
        "mean_age = office_df['sentimentAnalysis_score'].mean()#fills in the sentimental analysis scores with the mean/average\n",
        "office_df['sentimentAnalysis_score'] = office_df['sentimentAnalysis_score'].fillna(mean_age)\n",
        "office_df['sentimentAnalysis_score']\n",
        "\n",
        "office_df = office_df.drop('text_w_direction', axis=1)\n",
        "office_df.info()\n",
        "\n",
        "office_df = office_df.drop('text', axis=1)\n",
        "office_df.info()\n",
        "\n",
        "\n"
      ],
      "metadata": {
        "colab": {
          "base_uri": "https://localhost:8080/"
        },
        "id": "s0z3cf6bNlNs",
        "outputId": "c9276a79-90e0-4788-ab1d-d5254283d9a8"
      },
      "execution_count": 2,
      "outputs": [
        {
          "output_type": "stream",
          "name": "stdout",
          "text": [
            "<class 'pandas.core.frame.DataFrame'>\n",
            "RangeIndex: 55130 entries, 0 to 55129\n",
            "Data columns (total 14 columns):\n",
            " #   Column                   Non-Null Count  Dtype  \n",
            "---  ------                   --------------  -----  \n",
            " 0   index                    55130 non-null  int64  \n",
            " 1   season                   55130 non-null  int64  \n",
            " 2   episode                  55130 non-null  int64  \n",
            " 3   episode_name             55130 non-null  object \n",
            " 4   director                 55130 non-null  object \n",
            " 5   writer                   55130 non-null  object \n",
            " 6   character                55130 non-null  object \n",
            " 7   text                     54753 non-null  object \n",
            " 8   imdb_rating              55130 non-null  float64\n",
            " 9   total_votes              55130 non-null  int64  \n",
            " 10  air_date                 55130 non-null  object \n",
            " 11  sentimentAnalysis_score  55130 non-null  float64\n",
            " 12  sentimentr_score         55130 non-null  float64\n",
            " 13  syuzhet_score            55130 non-null  float64\n",
            "dtypes: float64(4), int64(4), object(6)\n",
            "memory usage: 5.9+ MB\n",
            "<class 'pandas.core.frame.DataFrame'>\n",
            "RangeIndex: 55130 entries, 0 to 55129\n",
            "Data columns (total 13 columns):\n",
            " #   Column                   Non-Null Count  Dtype  \n",
            "---  ------                   --------------  -----  \n",
            " 0   index                    55130 non-null  int64  \n",
            " 1   season                   55130 non-null  int64  \n",
            " 2   episode                  55130 non-null  int64  \n",
            " 3   episode_name             55130 non-null  object \n",
            " 4   director                 55130 non-null  object \n",
            " 5   writer                   55130 non-null  object \n",
            " 6   character                55130 non-null  object \n",
            " 7   imdb_rating              55130 non-null  float64\n",
            " 8   total_votes              55130 non-null  int64  \n",
            " 9   air_date                 55130 non-null  object \n",
            " 10  sentimentAnalysis_score  55130 non-null  float64\n",
            " 11  sentimentr_score         55130 non-null  float64\n",
            " 12  syuzhet_score            55130 non-null  float64\n",
            "dtypes: float64(4), int64(4), object(5)\n",
            "memory usage: 5.5+ MB\n"
          ]
        }
      ]
    },
    {
      "cell_type": "markdown",
      "source": [
        "  This graph represents our question, and also accuratley represents the trend. As the votes go up so does the score. In other words popularity is indeed increasing the total votes. It also proves our hypothesis to be true for the most part."
      ],
      "metadata": {
        "id": "Mqvb9lrKN73e"
      }
    },
    {
      "cell_type": "code",
      "source": [
        "import matplotlib.pyplot as plt\n",
        "\n",
        "x = office_df['total_votes']\n",
        "y = office_df['imdb_rating']\n",
        "\n",
        "plt.scatter(x,y)\n",
        "plt.xlabel('Total Votes')\n",
        "plt.ylabel('IMDb Rating')\n",
        "plt.title('IMDb Rating vs. Total Votes')\n",
        "plt.grid(True)\n",
        "plt.show()"
      ],
      "metadata": {
        "colab": {
          "base_uri": "https://localhost:8080/",
          "height": 472
        },
        "id": "vGBMxQssN_a9",
        "outputId": "41e3315d-46a7-40bf-ba04-ce840dcdce72"
      },
      "execution_count": 3,
      "outputs": [
        {
          "output_type": "display_data",
          "data": {
            "text/plain": [
              "<Figure size 640x480 with 1 Axes>"
            ],
            "image/png": "[encoded data removed]"
          },
          "metadata": {}
        }
      ]
    },
    {
      "cell_type": "markdown",
      "source": [
        "I then wanted to see if we could predict the IMDb score using linear regression. At first we use the mean squared and r2. The mean squared shows that we arent that far from being wrong, and the r2 shows that there is a low variation rate. The graph that is shown seems to have some questionable accuracy so far so it is a little weird."
      ],
      "metadata": {
        "id": "UZjgJ8LDOp4x"
      }
    },
    {
      "cell_type": "code",
      "source": [
        "\n",
        "\n",
        "from sklearn.model_selection import train_test_split\n",
        "from sklearn.linear_model import LinearRegression\n",
        "from sklearn.metrics import mean_squared_error, r2_score\n",
        "# Define new features andtarget\n",
        "features = office_df[['season','episode', 'total_votes','sentimentAnalysis_score','sentimentr_score','syuzhet_score']]\n",
        "\n",
        "target =office_df['imdb_rating']\n",
        "# Train-test split\n",
        "X_train, X_test, y_train, y_test =train_test_split(features, target,test_size=0.2, random_state=42)\n",
        "\n",
        "# Train the model\n",
        "model = LinearRegression()\n",
        "# Predict\n",
        "model.fit(X_train, y_train)\n",
        "predictions =model.predict(X_test)\n",
        "# Evaluate\n",
        "mse = mean_squared_error(y_test, predictions)\n",
        "\n",
        "r2 = r2_score(y_test,predictions)\n",
        "\n",
        "print(\"Mean Squared Error:\",mse)\n",
        "\n",
        "print(\"R2 Score:\", r2)"
      ],
      "metadata": {
        "id": "A5cDj0HfPNGA",
        "outputId": "8e24c648-69f1-4d40-c7fd-0108277300d3",
        "colab": {
          "base_uri": "https://localhost:8080/"
        }
      },
      "execution_count": 4,
      "outputs": [
        {
          "output_type": "stream",
          "name": "stdout",
          "text": [
            "Mean Squared Error: 0.14843123800272445\n",
            "R2 Score: 0.5046353863386238\n"
          ]
        }
      ]
    },
    {
      "cell_type": "code",
      "source": [
        "\n",
        "\n",
        "plt.scatter(y_test, predictions)\n",
        "plt.xlabel(\"Actual IMDb Ratings\")\n",
        "plt.ylabel(\"Predicted IMDb Ratings\")\n",
        "plt.title(\"Actual vs. Predicted IMDb Ratings\")\n",
        "plt.grid(True)\n",
        "\n",
        "\n",
        "plt.show()"
      ],
      "metadata": {
        "colab": {
          "base_uri": "https://localhost:8080/",
          "height": 472
        },
        "id": "FIGhSPBTOqKS",
        "outputId": "d14ec075-6b06-4d67-9e71-ca25a1aa4f83"
      },
      "execution_count": 5,
      "outputs": [
        {
          "output_type": "display_data",
          "data": {
            "text/plain": [
              "<Figure size 640x480 with 1 Axes>"
            ],
            "image/png": "[encoded data removed]"
          },
          "metadata": {}
        }
      ]
    },
    {
      "cell_type": "markdown",
      "source": [
        "# **Discussion**\n",
        "\n",
        "  Our hypothesis is proven true here. This means that popularity does have correlation to the score, but this does not mean it necessarly causes a good score. Some shows may have a small fanbase but have exelent ratings. Another problem is that this may not apply with everything. Some popular shows have horrible ratings because they are not that good. If I were to take this to the next step I would probably gather more data from other shows that are less popular and test them against eachoter. This would give the data more variation and also further prove or disprove my hypothesis."
      ],
      "metadata": {
        "id": "MRd6smnUI1CF"
      }
    },
    {
      "cell_type": "markdown",
      "source": [
        "# **GitHub**\n",
        "This is my GitHub and also link to the dataset:\n",
        "https://raw.githubusercontent.com/dsollberger/quartoblog/master/posts/office_sentiment/office_sentiment.csv\n",
        "\n",
        "https://github.com/sirmelon/office-dataset"
      ],
      "metadata": {
        "id": "BHAvFPCiJ8nx"
      }
    },
    {
      "cell_type": "markdown",
      "source": [
        "# **Abstract**\n",
        "\n",
        "**Problem**\n",
        "\n",
        "  My research questions is: If the votes dip how will this affect the IMDb score. This is important because it will show how populartiy could affect the ratings of certain show\n",
        "\n",
        "**Aproach**\n",
        "\n",
        "  I used the vote count and the IMDb_score variables and graphed it. I then graphed these two varibles on a scatter plot to see how the popularity affected the score.\n",
        "\n",
        "**Results**\n",
        "\n",
        "  The main findings proved that as the votes go up so do the votes proving that we were correct in our hypothesis.\n",
        "\n",
        "**Conclusion**\n",
        "\n",
        "  The main finding is that popularity is a pretty huge factor to ratings, but not the only one. This is important when talking about less mainstream content and shows."
      ],
      "metadata": {
        "id": "K4IQ5AeXK1Ur"
      }
    },
    {
      "cell_type": "markdown",
      "source": [
        "**Aknowledgement**\n",
        "\n",
        "  Thanks to my mentor Derek Solberg for giving me this oppurtunity to work on this dataset! Also thanks to my TAS Abishek and Jaden for helping with the code of the project! Also last but not least The coding school for giving me this wonderful experience and oppurtunity!"
      ],
      "metadata": {
        "id": "vvM36wb_XuNw"
      }
    }
  ]
}